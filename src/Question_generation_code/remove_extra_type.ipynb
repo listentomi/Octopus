{
 "cells": [
  {
   "cell_type": "code",
   "execution_count": null,
   "metadata": {},
   "outputs": [],
   "source": [
    "import os\n",
    "\n",
    "# 指定目录路径\n",
    "directory = './results/3_21/json/'\n",
    "\n",
    "# 获取目录下所有文件名\n",
    "file_names = os.listdir(directory)\n",
    "\n",
    "for file_name in file_names:\n",
    "    # 检查文件是否以 '.json' 后缀结尾\n",
    "    if file_name.endswith('.json'):\n",
    "        # 去除文件名的 '.json' 后缀\n",
    "        new_file_name = file_name[:-5]\n",
    "        \n",
    "        # 构建原始文件路径和新文件路径\n",
    "        old_path = os.path.join(directory, file_name)\n",
    "        new_path = os.path.join(directory, new_file_name)\n",
    "        \n",
    "        # 重命名文件\n",
    "        os.rename(old_path, new_path)\n",
    "        print(f\"文件 '{file_name}' 已重命名为 '{new_file_name}'\")\n"
   ]
  }
 ],
 "metadata": {
  "kernelspec": {
   "display_name": "exp",
   "language": "python",
   "name": "python3"
  },
  "language_info": {
   "codemirror_mode": {
    "name": "ipython",
    "version": 3
   },
   "file_extension": ".py",
   "mimetype": "text/x-python",
   "name": "python",
   "nbconvert_exporter": "python",
   "pygments_lexer": "ipython3",
   "version": "3.11.4"
  }
 },
 "nbformat": 4,
 "nbformat_minor": 2
}
