{
 "cells": [
  {
   "cell_type": "code",
   "execution_count": 5,
   "metadata": {},
   "outputs": [
    {
     "ename": "KeyboardInterrupt",
     "evalue": "",
     "output_type": "error",
     "traceback": [
      "\u001b[1;31m---------------------------------------------------------------------------\u001b[0m",
      "\u001b[1;31mKeyboardInterrupt\u001b[0m                         Traceback (most recent call last)",
      "Cell \u001b[1;32mIn[5], line 1\u001b[0m\n\u001b[1;32m----> 1\u001b[0m sql \u001b[38;5;241m=\u001b[39m\u001b[38;5;124m'\u001b[39m\u001b[38;5;124mSELECT T1.tvmaze_person_id FROM tvmaze_casting AS T1 WHERE T1.tvmaze_person_id != (SELECT T22.tvmaze_id FROM tvmaze_casting AS T22  GROUP BY T22.tvmaze_id  ORDER BY count( T22.tvmaze_character_id) DESC LIMIT 1)\u001b[39m\u001b[38;5;124m'\u001b[39m\n\u001b[0;32m      3\u001b[0m \u001b[38;5;28;01mfrom\u001b[39;00m \u001b[38;5;21;01msql2question_parallel\u001b[39;00m \u001b[38;5;28;01mimport\u001b[39;00m sql2question\n\u001b[0;32m      5\u001b[0m result  \u001b[38;5;241m=\u001b[39m sql2question(sql, \u001b[38;5;124m'\u001b[39m\u001b[38;5;124mtvmaze\u001b[39m\u001b[38;5;124m'\u001b[39m)\n",
      "Cell \u001b[1;32mIn[5], line 1\u001b[0m\n\u001b[1;32m----> 1\u001b[0m sql \u001b[38;5;241m=\u001b[39m\u001b[38;5;124m'\u001b[39m\u001b[38;5;124mSELECT T1.tvmaze_person_id FROM tvmaze_casting AS T1 WHERE T1.tvmaze_person_id != (SELECT T22.tvmaze_id FROM tvmaze_casting AS T22  GROUP BY T22.tvmaze_id  ORDER BY count( T22.tvmaze_character_id) DESC LIMIT 1)\u001b[39m\u001b[38;5;124m'\u001b[39m\n\u001b[0;32m      3\u001b[0m \u001b[38;5;28;01mfrom\u001b[39;00m \u001b[38;5;21;01msql2question_parallel\u001b[39;00m \u001b[38;5;28;01mimport\u001b[39;00m sql2question\n\u001b[0;32m      5\u001b[0m result  \u001b[38;5;241m=\u001b[39m sql2question(sql, \u001b[38;5;124m'\u001b[39m\u001b[38;5;124mtvmaze\u001b[39m\u001b[38;5;124m'\u001b[39m)\n",
      "File \u001b[1;32m_pydevd_bundle/pydevd_cython.pyx:1457\u001b[0m, in \u001b[0;36m_pydevd_bundle.pydevd_cython.SafeCallWrapper.__call__\u001b[1;34m()\u001b[0m\n",
      "File \u001b[1;32m_pydevd_bundle/pydevd_cython.pyx:701\u001b[0m, in \u001b[0;36m_pydevd_bundle.pydevd_cython.PyDBFrame.trace_dispatch\u001b[1;34m()\u001b[0m\n",
      "File \u001b[1;32m_pydevd_bundle/pydevd_cython.pyx:1152\u001b[0m, in \u001b[0;36m_pydevd_bundle.pydevd_cython.PyDBFrame.trace_dispatch\u001b[1;34m()\u001b[0m\n",
      "File \u001b[1;32m_pydevd_bundle/pydevd_cython.pyx:1135\u001b[0m, in \u001b[0;36m_pydevd_bundle.pydevd_cython.PyDBFrame.trace_dispatch\u001b[1;34m()\u001b[0m\n",
      "File \u001b[1;32m_pydevd_bundle/pydevd_cython.pyx:312\u001b[0m, in \u001b[0;36m_pydevd_bundle.pydevd_cython.PyDBFrame.do_wait_suspend\u001b[1;34m()\u001b[0m\n",
      "File \u001b[1;32md:\\code\\env\\exp\\lib\\site-packages\\debugpy\\_vendored\\pydevd\\pydevd.py:2070\u001b[0m, in \u001b[0;36mPyDB.do_wait_suspend\u001b[1;34m(self, thread, frame, event, arg, exception_type)\u001b[0m\n\u001b[0;32m   2067\u001b[0m             from_this_thread\u001b[38;5;241m.\u001b[39mappend(frame_custom_thread_id)\n\u001b[0;32m   2069\u001b[0m     \u001b[38;5;28;01mwith\u001b[39;00m \u001b[38;5;28mself\u001b[39m\u001b[38;5;241m.\u001b[39m_threads_suspended_single_notification\u001b[38;5;241m.\u001b[39mnotify_thread_suspended(thread_id, thread, stop_reason):\n\u001b[1;32m-> 2070\u001b[0m         keep_suspended \u001b[38;5;241m=\u001b[39m \u001b[38;5;28;43mself\u001b[39;49m\u001b[38;5;241;43m.\u001b[39;49m\u001b[43m_do_wait_suspend\u001b[49m\u001b[43m(\u001b[49m\u001b[43mthread\u001b[49m\u001b[43m,\u001b[49m\u001b[43m \u001b[49m\u001b[43mframe\u001b[49m\u001b[43m,\u001b[49m\u001b[43m \u001b[49m\u001b[43mevent\u001b[49m\u001b[43m,\u001b[49m\u001b[43m \u001b[49m\u001b[43marg\u001b[49m\u001b[43m,\u001b[49m\u001b[43m \u001b[49m\u001b[43msuspend_type\u001b[49m\u001b[43m,\u001b[49m\u001b[43m \u001b[49m\u001b[43mfrom_this_thread\u001b[49m\u001b[43m,\u001b[49m\u001b[43m \u001b[49m\u001b[43mframes_tracker\u001b[49m\u001b[43m)\u001b[49m\n\u001b[0;32m   2072\u001b[0m frames_list \u001b[38;5;241m=\u001b[39m \u001b[38;5;28;01mNone\u001b[39;00m\n\u001b[0;32m   2074\u001b[0m \u001b[38;5;28;01mif\u001b[39;00m keep_suspended:\n\u001b[0;32m   2075\u001b[0m     \u001b[38;5;66;03m# This means that we should pause again after a set next statement.\u001b[39;00m\n",
      "File \u001b[1;32md:\\code\\env\\exp\\lib\\site-packages\\debugpy\\_vendored\\pydevd\\pydevd.py:2106\u001b[0m, in \u001b[0;36mPyDB._do_wait_suspend\u001b[1;34m(self, thread, frame, event, arg, suspend_type, from_this_thread, frames_tracker)\u001b[0m\n\u001b[0;32m   2103\u001b[0m         \u001b[38;5;28mself\u001b[39m\u001b[38;5;241m.\u001b[39m_call_input_hook()\n\u001b[0;32m   2105\u001b[0m     \u001b[38;5;28mself\u001b[39m\u001b[38;5;241m.\u001b[39mprocess_internal_commands()\n\u001b[1;32m-> 2106\u001b[0m     \u001b[43mtime\u001b[49m\u001b[38;5;241;43m.\u001b[39;49m\u001b[43msleep\u001b[49m\u001b[43m(\u001b[49m\u001b[38;5;241;43m0.01\u001b[39;49m\u001b[43m)\u001b[49m\n\u001b[0;32m   2108\u001b[0m \u001b[38;5;28mself\u001b[39m\u001b[38;5;241m.\u001b[39mcancel_async_evaluation(get_current_thread_id(thread), \u001b[38;5;28mstr\u001b[39m(\u001b[38;5;28mid\u001b[39m(frame)))\n\u001b[0;32m   2110\u001b[0m \u001b[38;5;66;03m# process any stepping instructions\u001b[39;00m\n",
      "\u001b[1;31mKeyboardInterrupt\u001b[0m: "
     ]
    }
   ],
   "source": [
    "sql ='SELECT T1.tvmaze_person_id FROM tvmaze_casting AS T1 WHERE T1.tvmaze_person_id != (SELECT T22.tvmaze_id FROM tvmaze_casting AS T22  GROUP BY T22.tvmaze_id  ORDER BY count( T22.tvmaze_character_id) DESC LIMIT 1)'\n",
    "\n",
    "from sql2question_parallel import sql2question\n",
    "\n",
    "result  = sql2question(sql, 'tvmaze')\n",
    "result"
   ]
  },
  {
   "cell_type": "code",
   "execution_count": null,
   "metadata": {},
   "outputs": [
    {
     "data": {
      "text/plain": [
       "'哪些演员的ID与在电视节目中扮演角色最多的人的ID不匹配？'"
      ]
     },
     "execution_count": 2,
     "metadata": {},
     "output_type": "execute_result"
    }
   ],
   "source": [
    "from sql2question_parallel import en2ch\n",
    "en = \"Who are the cast members whose ID does not match the ID of the person with the most characters played in a TV show?\"\n",
    "result2 = en2ch(en)\n",
    "result2"
   ]
  },
  {
   "cell_type": "code",
   "execution_count": null,
   "metadata": {},
   "outputs": [
    {
     "name": "stdout",
     "output_type": "stream",
     "text": [
      "469595 30865\n"
     ]
    }
   ],
   "source": [
    "import json \n",
    "\n",
    "with open('token_count.json', 'r') as f:\n",
    "    token_count = json.load(f)\n",
    "\n",
    "inputcount = 0\n",
    "outputcount = 0\n",
    "for item in token_count['sql2en']:\n",
    "    inputcount1 = sum(item['input'])\n",
    "    outputcount1 = sum(item['output'])\n",
    "    inputcount += inputcount1\n",
    "    outputcount += outputcount1\n",
    "print(inputcount, outputcount)"
   ]
  },
  {
   "cell_type": "code",
   "execution_count": null,
   "metadata": {},
   "outputs": [
    {
     "name": "stdout",
     "output_type": "stream",
     "text": [
      "92601 5800\n"
     ]
    }
   ],
   "source": [
    "inputcount = 0\n",
    "outputcount = 0\n",
    "for item in token_count['en2ch']:\n",
    "    inputcount1 = item['input']\n",
    "    outputcount1 = item['output']\n",
    "    inputcount += inputcount1\n",
    "    outputcount += outputcount1\n",
    "print(inputcount, outputcount)"
   ]
  },
  {
   "cell_type": "code",
   "execution_count": null,
   "metadata": {},
   "outputs": [],
   "source": [
    "def count_tokens(input_string):\n",
    "    # 使用空格将字符串拆分为单词列表\n",
    "    tokens = input_string.split()\n",
    "    # 返回单词列表的长度\n",
    "    return len(tokens)\n",
    "\n",
    "# 测试字符串\n",
    "input_string = \"这是一个示例字符串，包含一些token。\"\n",
    "# 统计token数\n",
    "token_count = count_tokens(input_string)\n",
    "print(\"Token数:\", token_count)\n"
   ]
  },
  {
   "cell_type": "code",
   "execution_count": 3,
   "metadata": {},
   "outputs": [
    {
     "name": "stdout",
     "output_type": "stream",
     "text": [
      "{'sentence1': 'Select the breathalyzer test result from the person table.', 'sentence2': \"Where the person's accident ID is not in the accident table.\", 'sentence3': 'Select the longitude from the accident table.', 'sentence4': 'Where the accident ID is not in the person table.', 'sentence5': 'Select the count of breathalyzer tests from the person table.', 'sentence6': 'Where the administrative unit of the person is not in the accident table.', 'sentence7': 'Select the average breathalyzer test result and the description of the scene from the accident table.', 'sentence8': 'Group by the description of the scene.', 'sentence9': 'Select the average professional examination and the name of the administrative unit from the administrative unit table.', 'sentence10': 'Group by the name of the administrative unit.', 'sentence11': 'Select the average latitude and the name of the administrative unit from the administrative unit table.', 'sentence12': 'Group by the name of the administrative unit.', 'sentence13': 'Select the average latitude and the population of the administrative unit from the administrative unit table.', 'sentence14': 'Group by the population of the administrative unit.', 'sentence15': 'Select the average longitude and the population of the administrative unit from the administrative unit table.', 'sentence16': 'Group by the population of the administrative unit.', 'sentence17': 'Select the average latitude and the age of the person from the person table.', 'sentence18': 'Group by the age of the person.', 'sentence19': 'Select the average longitude and the gender of the person from the person table.', 'sentence20': 'Group by the gender of the person.'}\n"
     ]
    }
   ],
   "source": [
    "from sql2question_group import preprocess, get_clause, after_process, rough_tranlate\n",
    "from src.qa import makecomversation\n",
    "import json\n",
    "with open(\"./data/4_26/complex/Accidents_complex.json\", \"r\") as f:\n",
    "    data = json.load(f)\n",
    "\n",
    "# 粗翻译,翻译到接近自然语言,没有特殊标记符号,和类似函数的表达形式.  200 tokens\n",
    "def rough_tranlate_clause(sentences):\n",
    "    prompt = \"\"\"You are a Translator.\"\"\"\n",
    "\n",
    "    usercontent = f\"\"\" \n",
    "    Translate the sentences provided into spoken English, not contain any special symbols except commas and periods.\n",
    "    Only returns the translated sentences, do not generate any other content, such as \"The caluse is: ...\".\n",
    "    if you have trouble doing it or hold that nothing need to be changed, just return the original sentences,\n",
    "    the returned sentences is either the Translated sentences or the original sentences, but we encourage you to translate the sentences even if the changes are minor.\n",
    "    The sentences is: \n",
    "    {sentences}\n",
    "    \"\"\"\n",
    "\n",
    "    return_format = '{\"sentence1\":\"\",\"sentence2\":\"\", ...}'\n",
    "\n",
    "    result, input_tokens, ouput_tokens = makecomversation(prompt, usercontent, return_format)\n",
    "    \n",
    "    return result\n",
    "\n",
    "\n",
    "def rough_tranlate(clause_lists):\n",
    "    clauses = {}\n",
    "    i = 1\n",
    "    for clause_list in clause_lists:\n",
    "        for clause in clause_list:\n",
    "            clauses[f'clauses{i}'] = clause\n",
    "            i+=1\n",
    "  \n",
    "    result = rough_tranlate_clause(clauses)\n",
    "    print(result)\n",
    "    i = 1\n",
    "    result2 = []\n",
    "    for clause_list in clause_lists:\n",
    "        result1 = []\n",
    "        for clause in clause_list:\n",
    "            result1.append(result[f'sentence{i}'])\n",
    "            i+=1\n",
    "        result2.append(result1)\n",
    "    return result2\n",
    "\n",
    "# 预处理\n",
    "sqls = []\n",
    "for index, item in enumerate(data[:10]):\n",
    "    sqls.append(item['readable_query'])\n",
    "preprocessed_sqls = []\n",
    "for sql in sqls:\n",
    "    sql, _, _, _, _ = preprocess(sql)\n",
    "    preprocessed_sqls.append(sql)\n",
    "clause_lists = []\n",
    "for sql in preprocessed_sqls:\n",
    "    clause_list = get_clause(sql)\n",
    "    clause_lists.append(clause_list)\n",
    "afterprocessed_clauses = []\n",
    "for clause_list in clause_lists:\n",
    "    decomposed_clause = after_process(clause_list)\n",
    "    afterprocessed_clauses.append(decomposed_clause)\n",
    "simplified_sql = rough_tranlate(afterprocessed_clauses)"
   ]
  },
  {
   "cell_type": "code",
   "execution_count": 11,
   "metadata": {},
   "outputs": [
    {
     "name": "stdout",
     "output_type": "stream",
     "text": [
      "{'sentence1': 'what are the breathalyzer test results', 'sentence2': 'for people whose accident ID is not listed in the accident table', 'sentence3': 'what is the longitude', 'sentence4': 'for accidents not listed in the person table', 'sentence5': 'how many breathalyzer tests are there', 'sentence6': 'for people whose administrative unit is not listed in the accident table', 'sentence7': 'what is the average breathalyzer test result and the scene description', 'sentence8': 'for each scene description', 'sentence9': 'what is the average professional examination and the administrative unit name', 'sentence10': 'for each administrative unit', 'sentence11': 'what is the average latitude and the administrative unit name', 'sentence12': 'for each administrative unit', 'sentence13': 'what is the average latitude and the population of the administrative unit', 'sentence14': 'for each population size of the administrative unit', 'sentence15': 'what is the average longitude and the population of the administrative unit', 'sentence16': 'for each population size of the administrative unit', 'sentence17': 'what is the average latitude and the age of the person', 'sentence18': 'for each age group', 'sentence19': 'what is the average longitude and the gender of the person', 'sentence20': 'for each gender'}\n"
     ]
    },
    {
     "data": {
      "text/plain": [
       "[['what are the breathalyzer test results',\n",
       "  'for people whose accident ID is not listed in the accident table'],\n",
       " ['what is the longitude', 'for accidents not listed in the person table'],\n",
       " ['how many breathalyzer tests are there',\n",
       "  'for people whose administrative unit is not listed in the accident table'],\n",
       " ['what is the average breathalyzer test result and the scene description',\n",
       "  'for each scene description'],\n",
       " ['what is the average professional examination and the administrative unit name',\n",
       "  'for each administrative unit'],\n",
       " ['what is the average latitude and the administrative unit name',\n",
       "  'for each administrative unit'],\n",
       " ['what is the average latitude and the population of the administrative unit',\n",
       "  'for each population size of the administrative unit'],\n",
       " ['what is the average longitude and the population of the administrative unit',\n",
       "  'for each population size of the administrative unit'],\n",
       " ['what is the average latitude and the age of the person',\n",
       "  'for each age group'],\n",
       " ['what is the average longitude and the gender of the person',\n",
       "  'for each gender']]"
      ]
     },
     "execution_count": 11,
     "metadata": {},
     "output_type": "execute_result"
    }
   ],
   "source": [
    "from sql2question_group import get_examples\n",
    "\n",
    "def fewshot_tranlate_clause(clauses, clause_types):\n",
    "    if len(clause_types) > 2:\n",
    "        sameple_num = 5\n",
    "    else:\n",
    "        sameple_num = 10\n",
    "    examples = []\n",
    "    for clause_type in clause_types:\n",
    "        examples += get_examples(clause_type, sameple_num)\n",
    "\n",
    "    example_prompt = \"Here is some examples:\" if len(examples)>0 else \"\"\n",
    "    examples = \"\" if len(examples) == 0 else examples\n",
    "    prompt = f\"\"\"You are a language expert. You need to translate the sql clauses provided and then return the colloquial result. \n",
    "    {example_prompt}\n",
    "    {examples}\n",
    "    \"\"\"\n",
    "\n",
    "    usercontent = f\"\"\" You need to translate the sql clauses provided and then return the colloquial result. \n",
    "    Do not generate any other content, such as \"The paragraph means: \", just the result. \n",
    "    if you can't translate the sql clauses, return the clauses provided, don't reply content as such\"'The SQL clauses is not valid. Please provide a valid SQL clauses.'\".\n",
    "    The sql clauses is: \n",
    "    {clauses}\n",
    "    \"\"\"\n",
    "\n",
    "    return_format = '{\"sentence1\":\"\",\"sentence2\":\"\", ...}'\n",
    "\n",
    "    result, input_tokens, ouput_tokens = makecomversation(prompt, usercontent, return_format)\n",
    "    return result\n",
    "\n",
    "\n",
    "def get_hint(clause_lists):\n",
    "    clauses = {}\n",
    "    clause_types = []\n",
    "    i = 1\n",
    "    for clause_list in clause_lists:\n",
    "        for clause in clause_list:\n",
    "            clauses[f'clauses{i}'] = clause\n",
    "            clause_type = clause.split()[0].lower()\n",
    "            clause_types.append(clause_type)\n",
    "            i+=1\n",
    "    \n",
    "    result = fewshot_tranlate_clause(clauses, list(set(clause_types)))\n",
    "    print(result)\n",
    "    i = 1\n",
    "    result2 = []\n",
    "    for clause_list in clause_lists:\n",
    "        result1 = []\n",
    "        for clause in clause_list:\n",
    "            result1.append(result[f'sentence{i}'])\n",
    "            i+=1\n",
    "        result2.append(result1)\n",
    "    return result2\n",
    "\n",
    "hints = get_hint(simplified_sql)\n",
    "\n",
    "hints\n"
   ]
  },
  {
   "cell_type": "code",
   "execution_count": 23,
   "metadata": {},
   "outputs": [
    {
     "name": "stdout",
     "output_type": "stream",
     "text": [
      "{'batch1': {'original_sql': 'SELECT oseba.alkotest FROM oseba AS oseba WHERE oseba.id_nesreca NOT IN (SELECT nesreca.id_nesreca FROM nesreca AS nesreca)', 'simplified_sql': ['Select the breathalyzer test result from the person table.', \"Where the person's accident ID is not in the accident table.\"], 'question_hint': ['what are the breathalyzer test results', 'for people whose accident ID is not listed in the accident table']}, 'batch2': {'original_sql': 'SELECT nesreca.x_wgs84 FROM nesreca AS nesreca WHERE nesreca.id_nesreca NOT IN (SELECT oseba.id_nesreca FROM oseba AS oseba)', 'simplified_sql': ['Select the longitude from the accident table.', 'Where the accident ID is not in the person table.'], 'question_hint': ['what is the longitude', 'for accidents not listed in the person table']}, 'batch3': {'original_sql': 'SELECT count( oseba.alkotest_d) FROM oseba AS oseba WHERE oseba.upravna_enota NOT IN (SELECT nesreca.upravna_enota FROM nesreca AS nesreca)', 'simplified_sql': ['Select the count of breathalyzer tests from the person table.', 'Where the administrative unit of the person is not in the accident table.'], 'question_hint': ['how many breathalyzer tests are there', 'for people whose administrative unit is not listed in the accident table']}, 'batch4': {'original_sql': 'SELECT avg( oseba.alkotest), nesreca.opis_prizorisce FROM oseba AS oseba JOIN nesreca AS nesreca ON oseba.id_nesreca = nesreca.id_nesreca  GROUP BY nesreca.opis_prizorisce', 'simplified_sql': ['Select the average breathalyzer test result and the description of the scene from the accident table.', 'Group by the description of the scene.'], 'question_hint': ['what is the average breathalyzer test result and the scene description', 'for each scene description']}, 'batch5': {'original_sql': 'SELECT avg( oseba.strokovni_pregled), upravna_enota.ime_upravna_enota FROM oseba AS oseba JOIN upravna_enota AS upravna_enota ON oseba.upravna_enota = upravna_enota.id_upravna_enota  GROUP BY upravna_enota.ime_upravna_enota', 'simplified_sql': ['Select the average professional examination and the name of the administrative unit from the administrative unit table.', 'Group by the name of the administrative unit.'], 'question_hint': ['what is the average professional examination and the administrative unit name', 'for each administrative unit']}, 'batch6': {'original_sql': 'SELECT avg( nesreca.y_wgs84), upravna_enota.ime_upravna_enota FROM nesreca AS nesreca JOIN upravna_enota AS upravna_enota ON nesreca.upravna_enota = upravna_enota.id_upravna_enota  GROUP BY upravna_enota.ime_upravna_enota', 'simplified_sql': ['Select the average latitude and the name of the administrative unit from the administrative unit table.', 'Group by the name of the administrative unit.'], 'question_hint': ['what is the average latitude and the administrative unit name', 'for each administrative unit']}, 'batch7': {'original_sql': 'SELECT avg( nesreca.y_wgs84), upravna_enota.st_prebivalcev FROM nesreca AS nesreca JOIN upravna_enota AS upravna_enota ON nesreca.upravna_enota = upravna_enota.id_upravna_enota  GROUP BY upravna_enota.st_prebivalcev', 'simplified_sql': ['Select the average latitude and the population of the administrative unit from the administrative unit table.', 'Group by the population of the administrative unit.'], 'question_hint': ['what is the average latitude and the population of the administrative unit', 'for each population size of the administrative unit']}, 'batch8': {'original_sql': 'SELECT avg( nesreca.x_wgs84), upravna_enota.st_prebivalcev FROM nesreca AS nesreca JOIN upravna_enota AS upravna_enota ON nesreca.upravna_enota = upravna_enota.id_upravna_enota  GROUP BY upravna_enota.st_prebivalcev', 'simplified_sql': ['Select the average longitude and the population of the administrative unit from the administrative unit table.', 'Group by the population of the administrative unit.'], 'question_hint': ['what is the average longitude and the population of the administrative unit', 'for each population size of the administrative unit']}, 'batch9': {'original_sql': 'SELECT avg( nesreca.y_wgs84), oseba.starost FROM nesreca AS nesreca JOIN oseba AS oseba ON nesreca.id_nesreca = oseba.id_nesreca  GROUP BY oseba.starost', 'simplified_sql': ['Select the average latitude and the age of the person from the person table.', 'Group by the age of the person.'], 'question_hint': ['what is the average latitude and the age of the person', 'for each age group']}, 'batch10': {'original_sql': 'SELECT avg( nesreca.x_wgs84), oseba.spol FROM nesreca AS nesreca JOIN oseba AS oseba ON nesreca.id_nesreca = oseba.id_nesreca  GROUP BY oseba.spol', 'simplified_sql': ['Select the average longitude and the gender of the person from the person table.', 'Group by the gender of the person.'], 'question_hint': ['what is the average longitude and the gender of the person', 'for each gender']}}\n",
      "{'question1': 'What are the breathalyzer test results for people whose accident ID is not listed in the accident table?', 'question2': 'What is the longitude for accidents not listed in the person table?', 'question3': 'How many breathalyzer tests are there for people whose administrative unit is not listed in the accident table?', 'question4': 'What is the average breathalyzer test result and the scene description for each scene description?', 'question5': 'What is the average professional examination and the administrative unit name for each administrative unit?', 'question6': 'What is the average latitude and the administrative unit name for each administrative unit?', 'question7': 'What is the average latitude and the population of the administrative unit for each population size of the administrative unit?', 'question8': 'What is the average longitude and the population of the administrative unit for each population size of the administrative unit?', 'question9': 'What is the average latitude and the age of the person for each age group?', 'question10': 'What is the average longitude and the gender of the person for each gender?'}\n"
     ]
    }
   ],
   "source": [
    "import random\n",
    "\n",
    "\n",
    "def the_final_translate(original_sqls, simplified_versions, hints, descriptions):\n",
    "    with open('spider_examples.txt', 'r', encoding='utf-8') as f:\n",
    "        spider_examples = f.readlines()\n",
    "    random_selection = random.sample(spider_examples, 10)\n",
    "\n",
    "    is_descriptions = descriptions is not None and len(descriptions) > 0\n",
    "    \n",
    "    prompt = f\"\"\"You are a sqls to question translation expert. You need to translate the sqls provided and then return the coresponding questions easy to understand. \n",
    "    Especially, when \"count(stuff_id)\" or \"group by stuff_id\", we means \"how many stuff are there\", or \"for each stuff\", not how many ids are there, don't mention id or IDS if not necessary. \n",
    "    and don't use the word \"count\" or orther function name in the question, say what they do.\n",
    "    Also, don't mention the table name or column name in the question, or use the word \"table\" or \"column\" in the question, guess the realistic meaning from the table name, \n",
    "    such as table \"address.address\" is just a address, the \"address.last_update\" is just the last update time.\n",
    "    don't use from clause in the question, and don't use the word \"from\" in the question, people who ask the question don't need to know where the data is stored.\n",
    "    \n",
    "    here is some examples:\n",
    "    {random_selection}\n",
    "    \"\"\"\n",
    "\n",
    "    usercontent = f\"\"\" You need to translate the sqls provided and then return coresponding questions. \n",
    "    Because sometimes sql is too complex to understand, or even contains errors, we will also provide a simplified version(a clause list, contains main information about the sql) for reference. \n",
    "    In addition, we will also provide some tips to introduce the meaning of this sqls, and what the generated question is mostly about.\n",
    "    Do not generate any other content, such as \"The question is: \", just the question of the sqls itself. \n",
    "    if you can't translate the sqls, return the simplified version provided(needs to be concat in right order), don't reply content as such \"The sqls clause is not valid. Please provide a valid SQL clause.\".\n",
    "    \"\"\" \n",
    "\n",
    "    if is_descriptions:\n",
    "        temp = f\"\"\"\n",
    "        We will provide the descriptions of the columns in sqls, which you can take as reference.\n",
    "        \"\"\"\n",
    "        usercontent += temp\n",
    "    \n",
    "    inputs = {}\n",
    "    i = 1\n",
    "    for original_sql, simplified_version, hint in zip(original_sqls, simplified_versions, hints):\n",
    "        inputs[f'batch{i}'] = {}\n",
    "        inputs[f'batch{i}']['original_sql'] = original_sql\n",
    "        inputs[f'batch{i}']['simplified_sql'] = simplified_version\n",
    "        inputs[f'batch{i}']['question_hint'] = hint\n",
    "        i += 1\n",
    "    print(inputs)\n",
    "    usercontent += f\"\"\"\n",
    "    The sqls are: \n",
    "    {inputs}\n",
    "    \"\"\"\n",
    "\n",
    "    if is_descriptions:\n",
    "        usercontent += f\"\"\"\n",
    "        The descriptions of the columns are:\n",
    "        {descriptions}\n",
    "        \"\"\"\n",
    "\n",
    "    return_format = '{\"question1\":\"\",\"question2\":\"\", ...}'\n",
    "\n",
    "    result, input_tokens, ouput_tokens = makecomversation(prompt, usercontent, return_format)\n",
    "    print(result)\n",
    "    result1 = []\n",
    "    i =1\n",
    "    for item in result:\n",
    "        result1.append(result[f'question{i}'])\n",
    "        i+=1\n",
    "    return result1\n",
    "\n",
    "descriptions = 'no descriptions available, you have to guess from the table name.'\n",
    "simplified_sql\n",
    "hints\n",
    "questions = the_final_translate(sqls, simplified_sql, hints, descriptions)"
   ]
  },
  {
   "cell_type": "code",
   "execution_count": 32,
   "metadata": {},
   "outputs": [
    {
     "data": {
      "text/plain": [
       "['What are the breathalyzer test results for people whose accident ID is not listed in the accident table?',\n",
       " 'What is the longitude for accidents not listed in the person table?',\n",
       " 'How many breathalyzer tests are there for people whose administrative unit is not listed in the accident table?',\n",
       " 'What is the average breathalyzer test result and the scene description for each scene description?',\n",
       " 'What is the average professional examination and the administrative unit name for each administrative unit?',\n",
       " 'What is the average latitude and the administrative unit name for each administrative unit?',\n",
       " 'What is the average latitude and the population of the administrative unit for each population size of the administrative unit?',\n",
       " 'What is the average longitude and the population of the administrative unit for each population size of the administrative unit?',\n",
       " 'What is the average latitude and the age of the person for each age group?',\n",
       " 'What is the average longitude and the gender of the person for each gender?']"
      ]
     },
     "execution_count": 32,
     "metadata": {},
     "output_type": "execute_result"
    }
   ],
   "source": [
    "questions # 还算ok"
   ]
  },
  {
   "cell_type": "code",
   "execution_count": 30,
   "metadata": {},
   "outputs": [],
   "source": [
    "# random fewshot 翻译 300tokens\n",
    "def getAnswer(ens):\n",
    "    inputs = {}\n",
    "    i = 1\n",
    "    for en in ens:\n",
    "        inputs[f'english{i}'] = en\n",
    "        i+=1\n",
    "\n",
    "    with open('./CSpider/en2ch_examples.json', 'r', encoding='utf-8') as f:\n",
    "        spider_examples = json.load(f)\n",
    "    random_selection = random.sample(spider_examples, 10)\n",
    "\n",
    "    examples = ''\n",
    "    index = 1\n",
    "    for item in random_selection:\n",
    "        example = f\"examples{index}: \\\"{item['english question']}\\\", its Chinese translation is \\\"{item['chinese question']}\\\".\\n\"\n",
    "        examples += example\n",
    "        index += 1\n",
    "\n",
    "    prompt = f\"\"\"You are a translation expert. You need to translated the english question to chinese question. \n",
    "    当你看到单词unique例如'unique ticket numbers'，它通常是\"不同的\"意思， 例如\n",
    "    \"for each unique aircraft code\" 可以翻译为\"不同飞机代码\" 而不是\"每个独特的飞机代码\"。\n",
    "    here are some examples:\n",
    "    {examples}\n",
    "    \"\"\"\n",
    "\n",
    "    usercontent = f\"\"\" Translate the chinese questions provided below, then return the translated english questions.\n",
    "    The english questions is: {inputs} \n",
    "    \"\"\"\n",
    "\n",
    "    return_format = '{\"chinese1\":\"\",\"chinese2\":\"\", ...}'\n",
    "\n",
    "    result, input_tokens, ouput_tokens = makecomversation(prompt, usercontent, return_format)\n",
    "    \n",
    "    result1 = []\n",
    "    for i, item in enumerate(result):\n",
    "        result1.append(result[f'chinese{i+1}'])\n",
    "    return result1\n",
    "\n",
    "chs = getAnswer(questions)"
   ]
  }
 ],
 "metadata": {
  "kernelspec": {
   "display_name": "exp",
   "language": "python",
   "name": "python3"
  },
  "language_info": {
   "codemirror_mode": {
    "name": "ipython",
    "version": 3
   },
   "file_extension": ".py",
   "mimetype": "text/x-python",
   "name": "python",
   "nbconvert_exporter": "python",
   "pygments_lexer": "ipython3",
   "version": "3.9.17"
  }
 },
 "nbformat": 4,
 "nbformat_minor": 2
}
