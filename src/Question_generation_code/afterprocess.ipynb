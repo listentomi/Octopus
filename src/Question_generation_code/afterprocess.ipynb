{
 "cells": [
  {
   "cell_type": "code",
   "execution_count": 6,
   "metadata": {},
   "outputs": [],
   "source": [
    "import os\n",
    "import json\n",
    "# 指定文件夹路径\n",
    "folder_path = './results/方案二/'\n",
    "\n",
    "json_folder_path = './data/方案二/json/'\n",
    "\n",
    "output_path = './results/方案二/json/'\n",
    "\n",
    "# 获取文件夹中的所有文件\n",
    "files = os.listdir(json_folder_path)\n",
    "\n",
    "# 遍历每个文件\n",
    "for file_name in files:\n",
    "    real_file_name = file_name.split('.')[0]\n",
    "    # 拼接文件路径\n",
    "    json_file_path = os.path.join(json_folder_path, file_name)\n",
    "    result_file_path = os.path.join(folder_path, 'new_'+real_file_name + '.txt')\n",
    "\n",
    "\n",
    "        \n",
    "    with open(json_file_path, 'r') as file:\n",
    "        original_json = json.load(file)\n",
    "    \n",
    "    new_json_list = []\n",
    "    # 打开文件并按行读取内容\n",
    "    with open(result_file_path, 'r') as file:\n",
    "        file = file.readlines()\n",
    "    num_lines = len(file)\n",
    "\n",
    "    for i in range(0, num_lines, 4):\n",
    "        sql = file[i]\n",
    "        question = file[i+2]\n",
    "        new_json = original_json[int(i/4)]\n",
    "        new_json['question'] = question\n",
    "        new_json_list.append(new_json)\n",
    "    \n",
    "    output_file_path = os.path.join(output_path, real_file_name + '.json')\n",
    "    with open(output_file_path, 'w') as file:\n",
    "        json.dump(new_json_list, file, indent=4, ensure_ascii=False)\n"
   ]
  }
 ],
 "metadata": {
  "kernelspec": {
   "display_name": "exp",
   "language": "python",
   "name": "python3"
  },
  "language_info": {
   "codemirror_mode": {
    "name": "ipython",
    "version": 3
   },
   "file_extension": ".py",
   "mimetype": "text/x-python",
   "name": "python",
   "nbconvert_exporter": "python",
   "pygments_lexer": "ipython3",
   "version": "3.11.4"
  }
 },
 "nbformat": 4,
 "nbformat_minor": 2
}
