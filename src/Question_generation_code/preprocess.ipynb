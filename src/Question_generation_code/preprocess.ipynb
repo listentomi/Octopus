{
 "cells": [
  {
   "cell_type": "code",
   "execution_count": null,
   "metadata": {},
   "outputs": [],
   "source": [
    "import os\n",
    "import json\n",
    "# directory = './data/方案一/json'\n",
    "# output = './data/方案一/sql'\n",
    "\n",
    "directory = './data/方案二/json'\n",
    "output = './data/方案二/sql'\n",
    "for root, dirs, files in os.walk(directory):\n",
    "        # 遍历当前目录下的所有文件\n",
    "        for file in files:\n",
    "            # 拼接文件的完整路径\n",
    "            file_path = os.path.join(root, file)\n",
    "            # 打印文件路径\n",
    "            print(file_path)\n",
    "            \n",
    "            with open(file_path, 'r', encoding='utf-8') as f:\n",
    "                content = json.load(f)\n",
    "\n",
    "            sqls = []\n",
    "            for item in content:\n",
    "                sql = item['sql']\n",
    "                sqls.append(sql)\n",
    "            outputfile = os.path.join(output, file).replace('json', 'txt')\n",
    "            with open(outputfile, 'w', encoding='utf-8') as f:\n",
    "                for row in sqls:\n",
    "                    f.write(row + '\\n')\n"
   ]
  }
 ],
 "metadata": {
  "kernelspec": {
   "display_name": "exp",
   "language": "python",
   "name": "python3"
  },
  "language_info": {
   "codemirror_mode": {
    "name": "ipython",
    "version": 3
   },
   "file_extension": ".py",
   "mimetype": "text/x-python",
   "name": "python",
   "nbconvert_exporter": "python",
   "pygments_lexer": "ipython3",
   "version": "3.11.4"
  }
 },
 "nbformat": 4,
 "nbformat_minor": 2
}
